{
 "cells": [
  {
   "cell_type": "code",
   "execution_count": 2,
   "id": "c303d491-253c-4b83-b708-e640e7783862",
   "metadata": {},
   "outputs": [],
   "source": [
    "from typing import Callable"
   ]
  },
  {
   "cell_type": "code",
   "execution_count": 3,
   "id": "892b8eaf-804c-4816-b1f7-5048d9264663",
   "metadata": {
    "deletable": true,
    "editable": true,
    "frozen": false
   },
   "outputs": [],
   "source": [
    "import torch\n",
    "import torch.nn as nn\n",
    "import torch.nn.functional as F"
   ]
  },
  {
   "cell_type": "code",
   "execution_count": 15,
   "id": "63daa340-a4dd-498e-980f-8fa3c4db5f37",
   "metadata": {},
   "outputs": [],
   "source": [
    "class GatedLinearUnit(nn.Module):\n",
    "    def __init__(\n",
    "        self,\n",
    "        activation_fn: Callable = F.tanh,\n",
    "        channel_dim: int = -1,\n",
    "    ):\n",
    "        super().__init__()\n",
    "        self.activation_fn = activation_fn\n",
    "        self.channel_dim = channel_dim\n",
    "\n",
    "    def forward(self, x):\n",
    "        x0, x1 = torch.chunk(x, 2, dim=self.channel_dim)\n",
    "\n",
    "        act_o = self.activation_fn(x0)\n",
    "        gate_o = F.sigmoid(x1)\n",
    "\n",
    "        return act_o * gate_o"
   ]
  },
  {
   "cell_type": "code",
   "execution_count": 16,
   "id": "bbc73114-cb0f-45f7-9f73-7df16378e106",
   "metadata": {},
   "outputs": [],
   "source": [
    "glu = GatedLinearUnit()"
   ]
  },
  {
   "cell_type": "code",
   "execution_count": 23,
   "id": "e27a3342-1d45-4888-8235-d7ce4fa19135",
   "metadata": {},
   "outputs": [],
   "source": [
    "x = torch.tensor([10, 10, 0, -10, -10, 1, 1, 1, 1, 1])"
   ]
  },
  {
   "cell_type": "code",
   "execution_count": 24,
   "id": "b3658aa3-b4cf-4338-8420-5a85b8bbbaa2",
   "metadata": {},
   "outputs": [
    {
     "data": {
      "text/plain": [
       "tensor([ 10,  10,   0, -10, -10,   1,   1,   1,   1,   1])"
      ]
     },
     "execution_count": 24,
     "metadata": {},
     "output_type": "execute_result"
    }
   ],
   "source": [
    "x"
   ]
  },
  {
   "cell_type": "code",
   "execution_count": 25,
   "id": "cefb0013-1d75-4eca-9be3-f4062728c546",
   "metadata": {},
   "outputs": [
    {
     "data": {
      "text/plain": [
       "tensor([ 0.7311,  0.7311,  0.0000, -0.7311, -0.7311])"
      ]
     },
     "execution_count": 25,
     "metadata": {},
     "output_type": "execute_result"
    }
   ],
   "source": [
    "glu(x)"
   ]
  },
  {
   "cell_type": "code",
   "execution_count": null,
   "id": "b80d1713-06d5-44fb-aeaa-ebd15d4b17b3",
   "metadata": {},
   "outputs": [],
   "source": []
  }
 ],
 "metadata": {
  "kernelspec": {
   "display_name": "wavenet",
   "language": "python",
   "name": "wavenet"
  },
  "language_info": {
   "codemirror_mode": {
    "name": "ipython",
    "version": 3
   },
   "file_extension": ".py",
   "mimetype": "text/x-python",
   "name": "python",
   "nbconvert_exporter": "python",
   "pygments_lexer": "ipython3",
   "version": "3.12.11"
  }
 },
 "nbformat": 4,
 "nbformat_minor": 5
}
