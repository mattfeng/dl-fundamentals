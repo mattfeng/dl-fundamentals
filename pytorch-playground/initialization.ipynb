{
 "cells": [
  {
   "cell_type": "code",
   "execution_count": 1,
   "id": "74427120-2cd4-4317-bcf7-7a4e373ce093",
   "metadata": {
    "deletable": true,
    "editable": true,
    "frozen": false
   },
   "outputs": [],
   "source": [
    "import torch\n",
    "import torch.nn as nn"
   ]
  },
  {
   "cell_type": "code",
   "execution_count": 6,
   "id": "c21ce36e-8d9e-4ed0-a5b3-efccc851ee7f",
   "metadata": {},
   "outputs": [
    {
     "name": "stdout",
     "output_type": "stream",
     "text": [
      "SimpleMLP(\n",
      "  (layer1): Linear(in_features=4, out_features=5, bias=True)\n",
      "  (layer2): Linear(in_features=5, out_features=2, bias=True)\n",
      ")\n",
      "tensor([[4.6500, 4.6500]], grad_fn=<AddmmBackward0>)\n"
     ]
    }
   ],
   "source": [
    "class SimpleMLP(nn.Module):\n",
    "    def __init__(self):\n",
    "        super().__init__()\n",
    "        self.layer1 = nn.Linear(4, 5)\n",
    "        self.layer2 = nn.Linear(5, 2)\n",
    "\n",
    "    def forward(self, x):\n",
    "        x = torch.relu(self.layer1(x))\n",
    "        return self.layer2(x)\n",
    "\n",
    "# Method A: apply a custom init function\n",
    "def preset_init(m):\n",
    "    if isinstance(m, nn.Linear):\n",
    "        # fill all weights with 0.5, all biases with -0.1\n",
    "        m.weight.data.fill_(0.5)\n",
    "        m.bias.data.fill_(-0.1)\n",
    "\n",
    "model_a = SimpleMLP()\n",
    "model_a.apply(preset_init)\n",
    "\n",
    "# Now model_a’s weights are deterministic for testing:\n",
    "inp = torch.ones(1, 4)\n",
    "\n",
    "print(model_a)\n",
    "print(model_a(inp))"
   ]
  },
  {
   "cell_type": "code",
   "execution_count": 5,
   "id": "99af3596-d11d-48f8-8db1-f001e3bdf31f",
   "metadata": {},
   "outputs": [
    {
     "name": "stdout",
     "output_type": "stream",
     "text": [
      "SimpleMLP(\n",
      "  (layer1): Linear(in_features=4, out_features=5, bias=True)\n",
      "  (layer2): Linear(in_features=5, out_features=2, bias=True)\n",
      ")\n",
      "tensor([[ 1.8000, -0.2000]], grad_fn=<AddmmBackward0>)\n"
     ]
    }
   ],
   "source": [
    "# Method B: load_state_dict from a preset dict\n",
    "model_b = SimpleMLP()\n",
    "preset = {\n",
    "    'layer1.weight': torch.full((5, 4), 0.2),\n",
    "    'layer1.bias':   torch.zeros(5),\n",
    "    'layer2.weight': torch.eye(2, 5),    # identity-like\n",
    "    'layer2.bias':   torch.tensor([1.0, -1.0]),\n",
    "}\n",
    "model_b.load_state_dict(preset, strict=False)\n",
    "\n",
    "# Test\n",
    "print(model_b)\n",
    "print(model_b(inp))\n",
    "# → again, fully deterministic"
   ]
  },
  {
   "cell_type": "code",
   "execution_count": null,
   "id": "e5e3c5d9-4be2-432f-92d5-2a8b82adcab6",
   "metadata": {},
   "outputs": [],
   "source": []
  }
 ],
 "metadata": {
  "kernelspec": {
   "display_name": "xfm",
   "language": "python",
   "name": "xfm"
  },
  "language_info": {
   "codemirror_mode": {
    "name": "ipython",
    "version": 3
   },
   "file_extension": ".py",
   "mimetype": "text/x-python",
   "name": "python",
   "nbconvert_exporter": "python",
   "pygments_lexer": "ipython3",
   "version": "3.12.11"
  }
 },
 "nbformat": 4,
 "nbformat_minor": 5
}
