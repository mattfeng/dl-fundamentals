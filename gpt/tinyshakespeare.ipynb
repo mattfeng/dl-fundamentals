{
 "cells": [
  {
   "cell_type": "code",
   "execution_count": 1,
   "id": "2b82f0e5-f206-4cf2-8ee4-cef3dcacee2c",
   "metadata": {},
   "outputs": [],
   "source": [
    "%load_ext autoreload\n",
    "%autoreload 3"
   ]
  },
  {
   "cell_type": "code",
   "execution_count": 2,
   "id": "e4c9c4b1-d363-4613-a395-ea1390b0fd3f",
   "metadata": {
    "deletable": true,
    "editable": true,
    "frozen": false
   },
   "outputs": [],
   "source": [
    "from tinyshakespeare import TinyShakespeareDataset, make_dataloader"
   ]
  },
  {
   "cell_type": "code",
   "execution_count": 4,
   "id": "2d437305-12c6-41cc-8a5b-318cd9274e12",
   "metadata": {},
   "outputs": [],
   "source": [
    "ds = TinyShakespeareDataset(\"./tinyshakespeare.txt\", 8)\n",
    "dl = make_dataloader(ds, batch_size=2, shuffle=False, num_workers=1)"
   ]
  },
  {
   "cell_type": "code",
   "execution_count": 5,
   "id": "5bcdf357-4a0f-4514-a32b-d3953e3a16ac",
   "metadata": {},
   "outputs": [],
   "source": [
    "x, y = next(iter(dl))"
   ]
  },
  {
   "cell_type": "code",
   "execution_count": 6,
   "id": "cd4e6367-5140-458c-821b-1175381f9544",
   "metadata": {},
   "outputs": [
    {
     "data": {
      "text/plain": [
       "tensor([[18, 47, 56, 57, 58,  1, 15, 47],\n",
       "        [47, 56, 57, 58,  1, 15, 47, 58]])"
      ]
     },
     "execution_count": 6,
     "metadata": {},
     "output_type": "execute_result"
    }
   ],
   "source": [
    "x"
   ]
  },
  {
   "cell_type": "code",
   "execution_count": null,
   "id": "406e24cd-4bae-404a-888d-e1b68cf5b14f",
   "metadata": {},
   "outputs": [],
   "source": []
  },
  {
   "cell_type": "code",
   "execution_count": null,
   "id": "1b48e258-1ced-408c-a884-39d7c9f9222d",
   "metadata": {},
   "outputs": [],
   "source": []
  }
 ],
 "metadata": {
  "kernelspec": {
   "display_name": "xfm",
   "language": "python",
   "name": "xfm"
  },
  "language_info": {
   "codemirror_mode": {
    "name": "ipython",
    "version": 3
   },
   "file_extension": ".py",
   "mimetype": "text/x-python",
   "name": "python",
   "nbconvert_exporter": "python",
   "pygments_lexer": "ipython3",
   "version": "3.12.11"
  }
 },
 "nbformat": 4,
 "nbformat_minor": 5
}
