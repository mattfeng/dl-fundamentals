{
 "cells": [
  {
   "cell_type": "code",
   "execution_count": 1,
   "id": "7ab736ba-b8c6-405a-8620-eff66af2dca6",
   "metadata": {
    "deletable": true,
    "editable": true,
    "frozen": false
   },
   "outputs": [],
   "source": [
    "%load_ext autoreload\n",
    "%autoreload 2"
   ]
  },
  {
   "cell_type": "code",
   "execution_count": 2,
   "id": "021fb350-2b96-42e8-aa1b-d658b03c95fc",
   "metadata": {
    "deletable": true,
    "editable": true,
    "frozen": false
   },
   "outputs": [],
   "source": [
    "import torch\n",
    "import torch.nn as nn"
   ]
  },
  {
   "cell_type": "code",
   "execution_count": 11,
   "id": "0184036e-1015-466a-9dfd-864c79ba55fe",
   "metadata": {
    "deletable": true,
    "editable": true,
    "frozen": false
   },
   "outputs": [],
   "source": [
    "m = torch.rand(1, 1, 8, 8)"
   ]
  },
  {
   "cell_type": "code",
   "execution_count": 12,
   "id": "3a55adc5-2367-46bd-a408-68af9a018956",
   "metadata": {
    "deletable": true,
    "editable": true,
    "frozen": false
   },
   "outputs": [
    {
     "data": {
      "text/plain": [
       "tensor([[[[0.5013, 0.4131, 0.2342, 0.8533, 0.6713, 0.7971, 0.2847, 0.9583],\n",
       "          [0.0012, 0.3029, 0.7836, 0.0272, 0.9575, 0.7355, 0.1210, 0.9108],\n",
       "          [0.0581, 0.0528, 0.6995, 0.9395, 0.9680, 0.8369, 0.2083, 0.3520],\n",
       "          [0.3052, 0.4492, 0.8673, 0.8860, 0.1031, 0.0997, 0.5165, 0.3787],\n",
       "          [0.9759, 0.1556, 0.9223, 0.6551, 0.0445, 0.6660, 0.3629, 0.3384],\n",
       "          [0.8233, 0.7372, 0.8182, 0.2631, 0.2813, 0.4014, 0.7720, 0.9715],\n",
       "          [0.8406, 0.0444, 0.5660, 0.4520, 0.8756, 0.2503, 0.9741, 0.4815],\n",
       "          [0.2444, 0.9145, 0.9347, 0.9024, 0.3979, 0.6628, 0.2588, 0.8877]]]])"
      ]
     },
     "execution_count": 12,
     "metadata": {},
     "output_type": "execute_result"
    }
   ],
   "source": [
    "m"
   ]
  },
  {
   "cell_type": "code",
   "execution_count": 5,
   "id": "4fe01630-e6d3-4caf-8a70-eb12149ae9b6",
   "metadata": {
    "deletable": true,
    "editable": true,
    "frozen": false
   },
   "outputs": [
    {
     "data": {
      "text/plain": [
       "tensor([[[[0., -inf, -inf, -inf, -inf, -inf, -inf, -inf],\n",
       "          [0., 0., -inf, -inf, -inf, -inf, -inf, -inf],\n",
       "          [0., 0., 0., -inf, -inf, -inf, -inf, -inf],\n",
       "          [0., 0., 0., 0., -inf, -inf, -inf, -inf],\n",
       "          [0., 0., 0., 0., 0., -inf, -inf, -inf],\n",
       "          [0., 0., 0., 0., 0., 0., -inf, -inf],\n",
       "          [0., 0., 0., 0., 0., 0., 0., -inf],\n",
       "          [0., 0., 0., 0., 0., 0., 0., 0.]]]])"
      ]
     },
     "execution_count": 5,
     "metadata": {},
     "output_type": "execute_result"
    }
   ],
   "source": [
    "torch.triu(-1 / torch.tril(m), diagonal=1)"
   ]
  },
  {
   "cell_type": "code",
   "execution_count": 6,
   "id": "ae29ff7f-c48e-4085-8e1e-d8e70f10a727",
   "metadata": {
    "deletable": true,
    "editable": true,
    "frozen": false
   },
   "outputs": [
    {
     "name": "stdout",
     "output_type": "stream",
     "text": [
      "cpu\n",
      "cuda:0\n"
     ]
    }
   ],
   "source": [
    "# on CPU\n",
    "x_cpu = torch.randn(3, 3)\n",
    "y_cpu = torch.triu(x_cpu)\n",
    "print(y_cpu.device)\n",
    "\n",
    "# on GPU (if available)\n",
    "x_gpu = torch.randn(3, 3, device=\"cuda\")\n",
    "y_gpu = torch.triu(x_gpu)\n",
    "print(y_gpu.device)"
   ]
  },
  {
   "cell_type": "markdown",
   "id": "ce5d14bd-418b-4535-b6cd-78866102ea86",
   "metadata": {
    "deletable": true,
    "editable": true,
    "frozen": false
   },
   "source": [
    "## Debug model"
   ]
  },
  {
   "cell_type": "code",
   "execution_count": 7,
   "id": "941750f6-445d-462f-aaa6-e51c2e34fd36",
   "metadata": {
    "deletable": true,
    "editable": true,
    "frozen": false
   },
   "outputs": [],
   "source": [
    "from pytorch_builtins_gpt import TransformerBlock"
   ]
  },
  {
   "cell_type": "code",
   "execution_count": 8,
   "id": "00058047-d1cf-4638-807c-6eb37029d1c3",
   "metadata": {
    "deletable": true,
    "editable": true,
    "frozen": false
   },
   "outputs": [],
   "source": [
    "block = TransformerBlock(d_model=8, num_heads=2, dropout=0)"
   ]
  },
  {
   "cell_type": "code",
   "execution_count": 20,
   "id": "d4985949-30a4-4797-9937-cd0f14faf75e",
   "metadata": {
    "deletable": true,
    "editable": true,
    "frozen": false
   },
   "outputs": [],
   "source": [
    "x = torch.rand(2, 5, 8)"
   ]
  },
  {
   "cell_type": "code",
   "execution_count": 24,
   "id": "8d8ab1ce-d255-4aae-8a4e-4f0d16d8afc7",
   "metadata": {},
   "outputs": [
    {
     "name": "stdout",
     "output_type": "stream",
     "text": [
      "torch.Size([2, 5, 8])\n",
      "tensor([[[-0.0789,  0.5913,  0.5830,  0.8026,  0.5740, -0.0664,  0.4228,\n",
      "           0.3916],\n",
      "         [ 0.6413,  0.3023,  0.3364,  0.9065,  1.3073,  0.1275,  1.7055,\n",
      "           1.0846],\n",
      "         [-0.0806,  0.6261,  0.5745,  0.4485,  1.1097,  0.1737,  1.2850,\n",
      "           1.1566],\n",
      "         [ 1.0124,  0.3690,  0.1513,  0.9199,  0.2483,  0.5227,  0.5017,\n",
      "           1.1933],\n",
      "         [ 0.7209,  0.3123,  0.3133,  0.5263,  0.8414,  0.6232,  1.1419,\n",
      "           0.6944]],\n",
      "\n",
      "        [[ 0.0168,  0.3064,  0.4814,  0.9187,  1.1297, -0.3512,  0.8066,\n",
      "           0.7304],\n",
      "         [ 0.6845,  0.8070,  0.5658,  0.3867,  0.9238,  0.5397,  0.5968,\n",
      "           0.6878],\n",
      "         [ 1.0328,  0.4977,  0.5323,  0.4931,  1.5019,  0.2396,  0.4266,\n",
      "           0.3813],\n",
      "         [ 0.8714,  0.4819,  0.9999,  0.5164,  0.9038,  0.7273,  0.9142,\n",
      "           0.0634],\n",
      "         [ 0.2953,  0.6053,  0.4822,  1.2002,  0.5316,  0.0274,  0.4893,\n",
      "           0.5010]]], grad_fn=<AddBackward0>) torch.Size([2, 5, 8])\n"
     ]
    },
    {
     "data": {
      "text/plain": [
       "tensor([[[-0.7587,  0.6317,  0.4251,  0.5196,  0.2157,  0.4243,  0.5952,\n",
       "           0.6281],\n",
       "         [ 0.4705,  0.2822,  0.2313,  0.5632,  0.9445,  0.5070,  1.9887,\n",
       "           1.3048],\n",
       "         [-0.3573,  0.6813,  0.3846,  0.1252,  0.8888,  0.4838,  1.5501,\n",
       "           1.3613],\n",
       "         [ 1.3194, -0.2095,  0.4341,  0.4298, -0.4383,  1.0834,  0.9573,\n",
       "           1.4790],\n",
       "         [ 0.4834,  0.4800,  0.1239,  0.1953,  0.4144,  0.9614,  1.5094,\n",
       "           0.8563]],\n",
       "\n",
       "        [[-0.3024,  0.3465,  0.3936,  0.5880,  0.7923,  0.0789,  0.9848,\n",
       "           0.9335],\n",
       "         [ 0.1887,  1.0663,  0.4137,  0.0700,  0.3707,  1.0165,  0.8498,\n",
       "           0.8052],\n",
       "         [ 0.6755,  0.4095,  0.2903,  0.1865,  0.8950,  0.6904,  0.7940,\n",
       "           0.6020],\n",
       "         [ 0.3468,  0.5956,  0.6845,  0.1627,  0.3383,  1.1084,  1.4918,\n",
       "           0.3676],\n",
       "         [-0.1851,  0.5284,  0.5235,  0.8646, -0.0323,  0.6530,  0.6308,\n",
       "           0.7375]]], grad_fn=<AddBackward0>)"
      ]
     },
     "execution_count": 24,
     "metadata": {},
     "output_type": "execute_result"
    }
   ],
   "source": [
    "block(x)"
   ]
  },
  {
   "cell_type": "code",
   "execution_count": null,
   "id": "0e4c032c-27ee-46b9-a93a-2640962a5317",
   "metadata": {},
   "outputs": [],
   "source": [
    "xfm = nn.Transformer(d_model=8, nhead)"
   ]
  },
  {
   "cell_type": "code",
   "execution_count": 25,
   "id": "f0bfa74c-2a6c-4239-aadd-0682dc4d1df2",
   "metadata": {},
   "outputs": [],
   "source": [
    "v = torch.ones(2, 2)"
   ]
  },
  {
   "cell_type": "code",
   "execution_count": 26,
   "id": "b29679b9-c9bb-45b8-9bad-fa8a70a02162",
   "metadata": {},
   "outputs": [
    {
     "data": {
      "text/plain": [
       "tensor([[1., 1.],\n",
       "        [1., 1.]])"
      ]
     },
     "execution_count": 26,
     "metadata": {},
     "output_type": "execute_result"
    }
   ],
   "source": [
    "v"
   ]
  },
  {
   "cell_type": "code",
   "execution_count": 29,
   "id": "5f358551-1223-4aed-9f76-d79e8be5f2b7",
   "metadata": {},
   "outputs": [
    {
     "data": {
      "text/plain": [
       "torch.Size([1, 2, 2])"
      ]
     },
     "execution_count": 29,
     "metadata": {},
     "output_type": "execute_result"
    }
   ],
   "source": [
    "v[None, ...].shape"
   ]
  },
  {
   "cell_type": "code",
   "execution_count": 30,
   "id": "f008a0d3-bfe2-49d6-af38-cfa09307305b",
   "metadata": {},
   "outputs": [],
   "source": [
    "x = torch.arange(5)"
   ]
  },
  {
   "cell_type": "code",
   "execution_count": 32,
   "id": "1d439bec-5ec7-4002-b3a3-7520cde1a72a",
   "metadata": {},
   "outputs": [
    {
     "data": {
      "text/plain": [
       "tensor([0, 1, 2, 3, 4])"
      ]
     },
     "execution_count": 32,
     "metadata": {},
     "output_type": "execute_result"
    }
   ],
   "source": [
    "x"
   ]
  },
  {
   "cell_type": "code",
   "execution_count": 33,
   "id": "272e0af5-36cc-49a6-87bb-7075e8d489d9",
   "metadata": {},
   "outputs": [
    {
     "data": {
      "text/plain": [
       "tensor([1, 2, 3, 4, 0])"
      ]
     },
     "execution_count": 33,
     "metadata": {},
     "output_type": "execute_result"
    }
   ],
   "source": [
    "torch.roll(x, -1)"
   ]
  },
  {
   "cell_type": "code",
   "execution_count": 34,
   "id": "254536e9-a21c-4646-ac26-100de8f32855",
   "metadata": {},
   "outputs": [
    {
     "data": {
      "text/plain": [
       "tensor(4)"
      ]
     },
     "execution_count": 34,
     "metadata": {},
     "output_type": "execute_result"
    }
   ],
   "source": [
    "torch.argmax(x)"
   ]
  },
  {
   "cell_type": "code",
   "execution_count": 36,
   "id": "98fd73ad-561f-4b6d-8300-966747a565d1",
   "metadata": {},
   "outputs": [
    {
     "data": {
      "text/plain": [
       "torch.device"
      ]
     },
     "execution_count": 36,
     "metadata": {},
     "output_type": "execute_result"
    }
   ],
   "source": [
    "type(torch.device(\"cuda\"))"
   ]
  },
  {
   "cell_type": "code",
   "execution_count": null,
   "id": "4a5fa3a4-00c9-4755-b71c-115400a61be7",
   "metadata": {},
   "outputs": [],
   "source": []
  }
 ],
 "metadata": {
  "kernelspec": {
   "display_name": "xfm",
   "language": "python",
   "name": "xfm"
  },
  "language_info": {
   "codemirror_mode": {
    "name": "ipython",
    "version": 3
   },
   "file_extension": ".py",
   "mimetype": "text/x-python",
   "name": "python",
   "nbconvert_exporter": "python",
   "pygments_lexer": "ipython3",
   "version": "3.12.11"
  }
 },
 "nbformat": 4,
 "nbformat_minor": 5
}
